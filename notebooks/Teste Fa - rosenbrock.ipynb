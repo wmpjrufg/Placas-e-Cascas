{
 "cells": [
  {
   "cell_type": "markdown",
   "metadata": {},
   "source": [
    "# Relatorio de otimização\n",
    "* João Vitor Coelho Estrela\n",
    "* Wanderlei Malaquias"
   ]
  },
  {
   "cell_type": "code",
   "execution_count": 1,
   "metadata": {},
   "outputs": [
    {
     "ename": "KeyboardInterrupt",
     "evalue": "",
     "output_type": "error",
     "traceback": [
      "\u001b[1;31m---------------------------------------------------------------------------\u001b[0m",
      "\u001b[1;31mKeyboardInterrupt\u001b[0m                         Traceback (most recent call last)",
      "\u001b[1;32m<ipython-input-1-d9b6233ce4db>\u001b[0m in \u001b[0;36m<module>\u001b[1;34m\u001b[0m\n\u001b[0;32m      8\u001b[0m \u001b[1;33m\u001b[0m\u001b[0m\n\u001b[0;32m      9\u001b[0m \u001b[1;32mfrom\u001b[0m \u001b[0mmodels\u001b[0m\u001b[1;33m.\u001b[0m\u001b[0mparametros\u001b[0m \u001b[1;32mimport\u001b[0m \u001b[0mParametros\u001b[0m\u001b[1;33m\u001b[0m\u001b[1;33m\u001b[0m\u001b[0m\n\u001b[1;32m---> 10\u001b[1;33m \u001b[1;32mfrom\u001b[0m \u001b[0mmodels\u001b[0m\u001b[1;33m.\u001b[0m\u001b[0mfirefly\u001b[0m\u001b[1;33m.\u001b[0m\u001b[0mfirefly\u001b[0m \u001b[1;32mimport\u001b[0m \u001b[0mFireFly\u001b[0m \u001b[1;32mas\u001b[0m \u001b[0mFa\u001b[0m\u001b[1;33m\u001b[0m\u001b[1;33m\u001b[0m\u001b[0m\n\u001b[0m",
      "\u001b[1;32m~\\Documents\\METASFINAL\\models\\firefly\\firefly.py\u001b[0m in \u001b[0;36m<module>\u001b[1;34m\u001b[0m\n\u001b[0;32m      1\u001b[0m \u001b[1;32mimport\u001b[0m \u001b[0mnumpy\u001b[0m \u001b[1;32mas\u001b[0m \u001b[0mnp\u001b[0m\u001b[1;33m\u001b[0m\u001b[1;33m\u001b[0m\u001b[0m\n\u001b[0;32m      2\u001b[0m \u001b[1;32mimport\u001b[0m \u001b[0mmath\u001b[0m\u001b[1;33m\u001b[0m\u001b[1;33m\u001b[0m\u001b[0m\n\u001b[1;32m----> 3\u001b[1;33m \u001b[1;32mfrom\u001b[0m \u001b[0mscipy\u001b[0m\u001b[1;33m.\u001b[0m\u001b[0mspatial\u001b[0m \u001b[1;32mimport\u001b[0m \u001b[0mdistance\u001b[0m\u001b[1;33m\u001b[0m\u001b[1;33m\u001b[0m\u001b[0m\n\u001b[0m\u001b[0;32m      4\u001b[0m \u001b[1;32mimport\u001b[0m \u001b[0mcopy\u001b[0m\u001b[1;33m\u001b[0m\u001b[1;33m\u001b[0m\u001b[0m\n\u001b[0;32m      5\u001b[0m \u001b[1;33m\u001b[0m\u001b[0m\n",
      "\u001b[1;32m~\\anaconda3\\lib\\site-packages\\scipy\\spatial\\__init__.py\u001b[0m in \u001b[0;36m<module>\u001b[1;34m\u001b[0m\n\u001b[0;32m     95\u001b[0m \u001b[1;32mfrom\u001b[0m \u001b[0m__future__\u001b[0m \u001b[1;32mimport\u001b[0m \u001b[0mdivision\u001b[0m\u001b[1;33m,\u001b[0m \u001b[0mprint_function\u001b[0m\u001b[1;33m,\u001b[0m \u001b[0mabsolute_import\u001b[0m\u001b[1;33m\u001b[0m\u001b[1;33m\u001b[0m\u001b[0m\n\u001b[0;32m     96\u001b[0m \u001b[1;33m\u001b[0m\u001b[0m\n\u001b[1;32m---> 97\u001b[1;33m \u001b[1;32mfrom\u001b[0m \u001b[1;33m.\u001b[0m\u001b[0mkdtree\u001b[0m \u001b[1;32mimport\u001b[0m \u001b[1;33m*\u001b[0m\u001b[1;33m\u001b[0m\u001b[1;33m\u001b[0m\u001b[0m\n\u001b[0m\u001b[0;32m     98\u001b[0m \u001b[1;32mfrom\u001b[0m \u001b[1;33m.\u001b[0m\u001b[0mckdtree\u001b[0m \u001b[1;32mimport\u001b[0m \u001b[1;33m*\u001b[0m\u001b[1;33m\u001b[0m\u001b[1;33m\u001b[0m\u001b[0m\n\u001b[0;32m     99\u001b[0m \u001b[1;32mfrom\u001b[0m \u001b[1;33m.\u001b[0m\u001b[0mqhull\u001b[0m \u001b[1;32mimport\u001b[0m \u001b[1;33m*\u001b[0m\u001b[1;33m\u001b[0m\u001b[1;33m\u001b[0m\u001b[0m\n",
      "\u001b[1;32m~\\anaconda3\\lib\\site-packages\\scipy\\spatial\\kdtree.py\u001b[0m in \u001b[0;36m<module>\u001b[1;34m\u001b[0m\n\u001b[0;32m      6\u001b[0m \u001b[1;32mimport\u001b[0m \u001b[0mnumpy\u001b[0m \u001b[1;32mas\u001b[0m \u001b[0mnp\u001b[0m\u001b[1;33m\u001b[0m\u001b[1;33m\u001b[0m\u001b[0m\n\u001b[0;32m      7\u001b[0m \u001b[1;32mfrom\u001b[0m \u001b[0mheapq\u001b[0m \u001b[1;32mimport\u001b[0m \u001b[0mheappush\u001b[0m\u001b[1;33m,\u001b[0m \u001b[0mheappop\u001b[0m\u001b[1;33m\u001b[0m\u001b[1;33m\u001b[0m\u001b[0m\n\u001b[1;32m----> 8\u001b[1;33m \u001b[1;32mimport\u001b[0m \u001b[0mscipy\u001b[0m\u001b[1;33m.\u001b[0m\u001b[0msparse\u001b[0m\u001b[1;33m\u001b[0m\u001b[1;33m\u001b[0m\u001b[0m\n\u001b[0m\u001b[0;32m      9\u001b[0m \u001b[1;33m\u001b[0m\u001b[0m\n\u001b[0;32m     10\u001b[0m __all__ = ['minkowski_distance_p', 'minkowski_distance',\n",
      "\u001b[1;32m~\\anaconda3\\lib\\site-packages\\scipy\\sparse\\__init__.py\u001b[0m in \u001b[0;36m<module>\u001b[1;34m\u001b[0m\n\u001b[0;32m    240\u001b[0m \u001b[1;33m\u001b[0m\u001b[0m\n\u001b[0;32m    241\u001b[0m \u001b[1;31m# For backward compatibility with v0.19.\u001b[0m\u001b[1;33m\u001b[0m\u001b[1;33m\u001b[0m\u001b[1;33m\u001b[0m\u001b[0m\n\u001b[1;32m--> 242\u001b[1;33m \u001b[1;32mfrom\u001b[0m \u001b[1;33m.\u001b[0m \u001b[1;32mimport\u001b[0m \u001b[0mcsgraph\u001b[0m\u001b[1;33m\u001b[0m\u001b[1;33m\u001b[0m\u001b[0m\n\u001b[0m\u001b[0;32m    243\u001b[0m \u001b[1;33m\u001b[0m\u001b[0m\n\u001b[0;32m    244\u001b[0m \u001b[0m__all__\u001b[0m \u001b[1;33m=\u001b[0m \u001b[1;33m[\u001b[0m\u001b[0ms\u001b[0m \u001b[1;32mfor\u001b[0m \u001b[0ms\u001b[0m \u001b[1;32min\u001b[0m \u001b[0mdir\u001b[0m\u001b[1;33m(\u001b[0m\u001b[1;33m)\u001b[0m \u001b[1;32mif\u001b[0m \u001b[1;32mnot\u001b[0m \u001b[0ms\u001b[0m\u001b[1;33m.\u001b[0m\u001b[0mstartswith\u001b[0m\u001b[1;33m(\u001b[0m\u001b[1;34m'_'\u001b[0m\u001b[1;33m)\u001b[0m\u001b[1;33m]\u001b[0m\u001b[1;33m\u001b[0m\u001b[1;33m\u001b[0m\u001b[0m\n",
      "\u001b[1;32m~\\anaconda3\\lib\\site-packages\\scipy\\sparse\\csgraph\\__init__.py\u001b[0m in \u001b[0;36m<module>\u001b[1;34m\u001b[0m\n\u001b[0;32m    180\u001b[0m            'NegativeCycleError']\n\u001b[0;32m    181\u001b[0m \u001b[1;33m\u001b[0m\u001b[0m\n\u001b[1;32m--> 182\u001b[1;33m \u001b[1;32mfrom\u001b[0m \u001b[1;33m.\u001b[0m\u001b[0m_laplacian\u001b[0m \u001b[1;32mimport\u001b[0m \u001b[0mlaplacian\u001b[0m\u001b[1;33m\u001b[0m\u001b[1;33m\u001b[0m\u001b[0m\n\u001b[0m\u001b[0;32m    183\u001b[0m \u001b[1;32mfrom\u001b[0m \u001b[1;33m.\u001b[0m\u001b[0m_shortest_path\u001b[0m \u001b[1;32mimport\u001b[0m \u001b[0mshortest_path\u001b[0m\u001b[1;33m,\u001b[0m \u001b[0mfloyd_warshall\u001b[0m\u001b[1;33m,\u001b[0m \u001b[0mdijkstra\u001b[0m\u001b[1;33m,\u001b[0m\u001b[0;31m\\\u001b[0m\u001b[1;33m\u001b[0m\u001b[1;33m\u001b[0m\u001b[0m\n\u001b[0;32m    184\u001b[0m     \u001b[0mbellman_ford\u001b[0m\u001b[1;33m,\u001b[0m \u001b[0mjohnson\u001b[0m\u001b[1;33m,\u001b[0m \u001b[0mNegativeCycleError\u001b[0m\u001b[1;33m\u001b[0m\u001b[1;33m\u001b[0m\u001b[0m\n",
      "\u001b[1;32m~\\anaconda3\\lib\\importlib\\_bootstrap.py\u001b[0m in \u001b[0;36m_find_and_load\u001b[1;34m(name, import_)\u001b[0m\n",
      "\u001b[1;32m~\\anaconda3\\lib\\importlib\\_bootstrap.py\u001b[0m in \u001b[0;36m_find_and_load_unlocked\u001b[1;34m(name, import_)\u001b[0m\n",
      "\u001b[1;32m~\\anaconda3\\lib\\importlib\\_bootstrap.py\u001b[0m in \u001b[0;36m_load_unlocked\u001b[1;34m(spec)\u001b[0m\n",
      "\u001b[1;32m~\\anaconda3\\lib\\importlib\\_bootstrap_external.py\u001b[0m in \u001b[0;36mexec_module\u001b[1;34m(self, module)\u001b[0m\n",
      "\u001b[1;32m~\\anaconda3\\lib\\importlib\\_bootstrap_external.py\u001b[0m in \u001b[0;36mget_code\u001b[1;34m(self, fullname)\u001b[0m\n",
      "\u001b[1;32m~\\anaconda3\\lib\\importlib\\_bootstrap_external.py\u001b[0m in \u001b[0;36mget_data\u001b[1;34m(self, path)\u001b[0m\n",
      "\u001b[1;31mKeyboardInterrupt\u001b[0m: "
     ]
    }
   ],
   "source": [
    "import numpy as np\n",
    "import pandas as pd\n",
    "import matplotlib.pyplot as plt\n",
    "import os\n",
    "\n",
    "from tqdm.notebook import tqdm\n",
    "from math import ceil\n",
    "\n",
    "from models.parametros import Parametros\n",
    "from models.firefly.firefly import FireFly as Fa\n"
   ]
  },
  {
   "cell_type": "code",
   "execution_count": 2,
   "metadata": {},
   "outputs": [],
   "source": [
    "def rosenbrock(chromosome):\n",
    "    \"\"\"F8 Rosenbrock's saddle\n",
    "    multimodal, asymmetric, inseparable\"\"\"\n",
    "    fitness = 0\n",
    "    for i in range(len(chromosome) - 1):\n",
    "        fitness += 100 * ((chromosome[i] ** 2) - chromosome[i + 1]) ** 2 + \\\n",
    "                   (1 - chromosome[i]) ** 2\n",
    "    return fitness"
   ]
  },
  {
   "cell_type": "markdown",
   "metadata": {},
   "source": [
    "## Parametros gerais"
   ]
  },
  {
   "cell_type": "code",
   "execution_count": 3,
   "metadata": {},
   "outputs": [],
   "source": [
    "nRep = 50\n",
    "nPop = 24\n",
    "nGen = 200\n",
    "ranges = np.array([[-2, 12]]*30)\n",
    "func = rosenbrock\n",
    "data_out = 'ARTIGO_DATA'"
   ]
  },
  {
   "cell_type": "code",
   "execution_count": 4,
   "metadata": {},
   "outputs": [],
   "source": [
    "paras0 = Parametros(nPop, nGen, 1, ranges, True, func, popType = 0)\n",
    "paras1 = Parametros(nPop, nGen, 1, ranges, True, func, popType = 1)\n",
    "paras2 = Parametros(nPop, nGen, 1, ranges, True, func, popType = 2)\n",
    "paras3 = Parametros(nPop, nGen, 1, ranges, True, func, popType = 3)\n",
    "paras4 = Parametros(nPop, nGen, 1, ranges, True, func, popType = 4)"
   ]
  },
  {
   "cell_type": "code",
   "execution_count": 2,
   "metadata": {},
   "outputs": [
    {
     "data": {
      "text/plain": [
       "array([[ 0.60829352, -0.18775733],\n",
       "       [ 0.2241087 ,  1.56052638]])"
      ]
     },
     "execution_count": 2,
     "metadata": {},
     "output_type": "execute_result"
    }
   ],
   "source": [
    "x = np.random.normal(size=(2,2))\n",
    "x"
   ]
  },
  {
   "cell_type": "code",
   "execution_count": 4,
   "metadata": {},
   "outputs": [
    {
     "data": {
      "text/plain": [
       "(5, 10)"
      ]
     },
     "execution_count": 4,
     "metadata": {},
     "output_type": "execute_result"
    }
   ],
   "source": [
    "r,c = (5,10)\n",
    "r,c"
   ]
  },
  {
   "cell_type": "code",
   "execution_count": 7,
   "metadata": {},
   "outputs": [],
   "source": [
    "\n",
    "try:\n",
    "    x[r,c] = 3\n",
    "except IndexError:\n",
    "    r0,c0 = x.shape\n",
    "    r_ = r+1-r0\n",
    "    c_ = c+1-c0\n",
    "    if r > 0:\n",
    "        x = np.concatenate([x,np.zeros((r_,x.shape[1]))], axis = 0)\n",
    "    if c > 0:\n",
    "        x = np.concatenate([x,np.zeros((x.shape[0],c_))], axis = 1)"
   ]
  },
  {
   "cell_type": "code",
   "execution_count": 8,
   "metadata": {},
   "outputs": [
    {
     "data": {
      "text/plain": [
       "array([[ 0.60829352, -0.18775733,  0.        ,  0.        ,  0.        ,\n",
       "         0.        ,  0.        ,  0.        ,  0.        ,  0.        ,\n",
       "         0.        ],\n",
       "       [ 0.2241087 ,  1.56052638,  0.        ,  0.        ,  0.        ,\n",
       "         0.        ,  0.        ,  0.        ,  0.        ,  0.        ,\n",
       "         0.        ],\n",
       "       [ 0.        ,  0.        ,  0.        ,  0.        ,  0.        ,\n",
       "         0.        ,  0.        ,  0.        ,  0.        ,  0.        ,\n",
       "         0.        ],\n",
       "       [ 0.        ,  0.        ,  0.        ,  0.        ,  0.        ,\n",
       "         0.        ,  0.        ,  0.        ,  0.        ,  0.        ,\n",
       "         0.        ],\n",
       "       [ 0.        ,  0.        ,  0.        ,  0.        ,  0.        ,\n",
       "         0.        ,  0.        ,  0.        ,  0.        ,  0.        ,\n",
       "         0.        ],\n",
       "       [ 0.        ,  0.        ,  0.        ,  0.        ,  0.        ,\n",
       "         0.        ,  0.        ,  0.        ,  0.        ,  0.        ,\n",
       "         0.        ]])"
      ]
     },
     "execution_count": 8,
     "metadata": {},
     "output_type": "execute_result"
    }
   ],
   "source": [
    "x"
   ]
  },
  {
   "cell_type": "code",
   "execution_count": null,
   "metadata": {},
   "outputs": [],
   "source": []
  },
  {
   "cell_type": "markdown",
   "metadata": {},
   "source": [
    "## Teste para FA"
   ]
  },
  {
   "cell_type": "code",
   "execution_count": 5,
   "metadata": {},
   "outputs": [],
   "source": [
    "metas = { 'Fa'         : [Fa(paras0, alpha0 = 1, beta0 = 1, gama0 = None, tetha0 = 0.95, exp0 = 2) for i in range(nRep)],\n",
    "          'Fa_OpSort'  : [Fa(paras1, alpha0 = 1, beta0 = 1, gama0 = None, tetha0 = 0.95, exp0 = 2) for i in range(nRep)],\n",
    "          'Fa_Op'      : [Fa(paras2, alpha0 = 1, beta0 = 1, gama0 = None, tetha0 = 0.95, exp0 = 2) for i in range(nRep)],\n",
    "          'Fa_Quasi13' : [Fa(paras3, alpha0 = 1, beta0 = 1, gama0 = None, tetha0 = 0.95, exp0 = 2) for i in range(nRep)],\n",
    "          'Fa_Quasi123': [Fa(paras4, alpha0 = 1, beta0 = 1, gama0 = None, tetha0 = 0.95, exp0 = 2) for i in range(nRep)]}"
   ]
  },
  {
   "cell_type": "code",
   "execution_count": 6,
   "metadata": {},
   "outputs": [
    {
     "data": {
      "application/vnd.jupyter.widget-view+json": {
       "model_id": "f866fe0951e940398e8d8cd85929260e",
       "version_major": 2,
       "version_minor": 0
      },
      "text/plain": [
       "HBox(children=(FloatProgress(value=0.0, description='Fa', max=10.0, style=ProgressStyle(description_width='ini…"
      ]
     },
     "metadata": {},
     "output_type": "display_data"
    },
    {
     "name": "stdout",
     "output_type": "stream",
     "text": [
      "\n"
     ]
    },
    {
     "data": {
      "application/vnd.jupyter.widget-view+json": {
       "model_id": "71a095fedd2646de9a2ecbcf49d6dacb",
       "version_major": 2,
       "version_minor": 0
      },
      "text/plain": [
       "HBox(children=(FloatProgress(value=0.0, description='Fa_OpSort', max=10.0, style=ProgressStyle(description_wid…"
      ]
     },
     "metadata": {},
     "output_type": "display_data"
    },
    {
     "name": "stdout",
     "output_type": "stream",
     "text": [
      "\n"
     ]
    },
    {
     "data": {
      "application/vnd.jupyter.widget-view+json": {
       "model_id": "7cdaf440c374402b95dbd25ad13f3f7a",
       "version_major": 2,
       "version_minor": 0
      },
      "text/plain": [
       "HBox(children=(FloatProgress(value=0.0, description='Fa_Op', max=10.0, style=ProgressStyle(description_width='…"
      ]
     },
     "metadata": {},
     "output_type": "display_data"
    },
    {
     "name": "stdout",
     "output_type": "stream",
     "text": [
      "\n"
     ]
    },
    {
     "data": {
      "application/vnd.jupyter.widget-view+json": {
       "model_id": "8ebdf1ab64eb451995748f36e55c5262",
       "version_major": 2,
       "version_minor": 0
      },
      "text/plain": [
       "HBox(children=(FloatProgress(value=0.0, description='Fa_Quasi13', max=10.0, style=ProgressStyle(description_wi…"
      ]
     },
     "metadata": {},
     "output_type": "display_data"
    },
    {
     "name": "stdout",
     "output_type": "stream",
     "text": [
      "\n"
     ]
    },
    {
     "data": {
      "application/vnd.jupyter.widget-view+json": {
       "model_id": "b25e26379f064900b5db2cd8f0c35eca",
       "version_major": 2,
       "version_minor": 0
      },
      "text/plain": [
       "HBox(children=(FloatProgress(value=0.0, description='Fa_Quasi123', max=10.0, style=ProgressStyle(description_w…"
      ]
     },
     "metadata": {},
     "output_type": "display_data"
    },
    {
     "name": "stdout",
     "output_type": "stream",
     "text": [
      "\n"
     ]
    }
   ],
   "source": [
    "for k, tipo in metas.items():\n",
    "    for rep in tqdm(tipo, desc=k, unit='Reps'):\n",
    "        for g in rep:\n",
    "            pass"
   ]
  },
  {
   "cell_type": "markdown",
   "metadata": {},
   "source": [
    "## Recuperando as infos:\n",
    "Para cada repetição de cada metaheurística é preciso obter os objetos partículas instanciados.\n",
    "* pBets -> Partícula que representa o melhor valor encontrado (pode divergir do melhor da pList).\n",
    "* pList -> Lista contendo todas partículas do enxame.\n",
    "\n",
    "Os objetos partículas possuem os seguintes atributos:\n",
    "\n",
    "* value -> Um array (nGen) contendo todos valores durante a repetição em questão.\n",
    "* ch -> Um array (nGen, nVar) contendo todos valores durante a repetição em questão."
   ]
  },
  {
   "cell_type": "markdown",
   "metadata": {},
   "source": [
    "### pBests:\n",
    "Para isso é obtido cada objeto particula instanciado como pBest em cada repetição de cada metaheuristica"
   ]
  },
  {
   "cell_type": "code",
   "execution_count": 7,
   "metadata": {},
   "outputs": [],
   "source": [
    "pBests = {mName: [m.pBest for m in metas] for mName, metas in metas.items()}\n",
    "for pBs in pBests.values():\n",
    "    pBs.sort(key=lambda p: p.value[-1])"
   ]
  },
  {
   "cell_type": "code",
   "execution_count": 8,
   "metadata": {},
   "outputs": [],
   "source": [
    "pBestsV = {mName: np.vstack([v.value for v in pB]) for mName, pB in pBests.items()}\n",
    "pBestsX = {mName: np.vstack([v.ch[-1, :] for v in pB]) for mName, pB in pBests.items()}"
   ]
  },
  {
   "cell_type": "code",
   "execution_count": 9,
   "metadata": {},
   "outputs": [
    {
     "data": {
      "text/html": [
       "<div>\n",
       "<style scoped>\n",
       "    .dataframe tbody tr th:only-of-type {\n",
       "        vertical-align: middle;\n",
       "    }\n",
       "\n",
       "    .dataframe tbody tr th {\n",
       "        vertical-align: top;\n",
       "    }\n",
       "\n",
       "    .dataframe thead th {\n",
       "        text-align: right;\n",
       "    }\n",
       "</style>\n",
       "<table border=\"1\" class=\"dataframe\">\n",
       "  <thead>\n",
       "    <tr style=\"text-align: right;\">\n",
       "      <th></th>\n",
       "      <th>0</th>\n",
       "      <th>1</th>\n",
       "      <th>2</th>\n",
       "      <th>3</th>\n",
       "      <th>4</th>\n",
       "      <th>5</th>\n",
       "      <th>6</th>\n",
       "      <th>7</th>\n",
       "      <th>8</th>\n",
       "      <th>9</th>\n",
       "      <th>...</th>\n",
       "      <th>190</th>\n",
       "      <th>191</th>\n",
       "      <th>192</th>\n",
       "      <th>193</th>\n",
       "      <th>194</th>\n",
       "      <th>195</th>\n",
       "      <th>196</th>\n",
       "      <th>197</th>\n",
       "      <th>198</th>\n",
       "      <th>199</th>\n",
       "    </tr>\n",
       "  </thead>\n",
       "  <tbody>\n",
       "    <tr>\n",
       "      <th>0</th>\n",
       "      <td>6.330778e+06</td>\n",
       "      <td>6.330778e+06</td>\n",
       "      <td>6.330778e+06</td>\n",
       "      <td>6.330778e+06</td>\n",
       "      <td>6.330778e+06</td>\n",
       "      <td>6.330778e+06</td>\n",
       "      <td>6.330778e+06</td>\n",
       "      <td>6.330778e+06</td>\n",
       "      <td>6.330778e+06</td>\n",
       "      <td>6.330778e+06</td>\n",
       "      <td>...</td>\n",
       "      <td>14297.663172</td>\n",
       "      <td>14297.663172</td>\n",
       "      <td>14297.663172</td>\n",
       "      <td>14297.663172</td>\n",
       "      <td>14297.663172</td>\n",
       "      <td>14297.663172</td>\n",
       "      <td>14297.663172</td>\n",
       "      <td>14297.663172</td>\n",
       "      <td>14297.663172</td>\n",
       "      <td>14297.663172</td>\n",
       "    </tr>\n",
       "    <tr>\n",
       "      <th>1</th>\n",
       "      <td>5.974641e+06</td>\n",
       "      <td>5.974641e+06</td>\n",
       "      <td>5.974641e+06</td>\n",
       "      <td>5.974641e+06</td>\n",
       "      <td>5.974641e+06</td>\n",
       "      <td>5.974641e+06</td>\n",
       "      <td>5.974641e+06</td>\n",
       "      <td>5.974641e+06</td>\n",
       "      <td>5.974641e+06</td>\n",
       "      <td>5.974641e+06</td>\n",
       "      <td>...</td>\n",
       "      <td>20656.033122</td>\n",
       "      <td>20656.033122</td>\n",
       "      <td>20656.033122</td>\n",
       "      <td>20656.033122</td>\n",
       "      <td>20656.033122</td>\n",
       "      <td>20656.033122</td>\n",
       "      <td>20656.033122</td>\n",
       "      <td>20656.033122</td>\n",
       "      <td>20656.033122</td>\n",
       "      <td>20656.033122</td>\n",
       "    </tr>\n",
       "    <tr>\n",
       "      <th>2</th>\n",
       "      <td>7.421490e+06</td>\n",
       "      <td>7.421490e+06</td>\n",
       "      <td>7.421490e+06</td>\n",
       "      <td>7.421490e+06</td>\n",
       "      <td>7.421490e+06</td>\n",
       "      <td>7.421490e+06</td>\n",
       "      <td>7.421490e+06</td>\n",
       "      <td>7.421490e+06</td>\n",
       "      <td>7.421490e+06</td>\n",
       "      <td>7.421490e+06</td>\n",
       "      <td>...</td>\n",
       "      <td>21197.382203</td>\n",
       "      <td>21197.382203</td>\n",
       "      <td>21197.382203</td>\n",
       "      <td>21197.382203</td>\n",
       "      <td>21197.382203</td>\n",
       "      <td>21197.382203</td>\n",
       "      <td>21197.382203</td>\n",
       "      <td>21197.382203</td>\n",
       "      <td>21197.382203</td>\n",
       "      <td>21197.382203</td>\n",
       "    </tr>\n",
       "    <tr>\n",
       "      <th>3</th>\n",
       "      <td>6.302444e+06</td>\n",
       "      <td>6.302444e+06</td>\n",
       "      <td>6.302444e+06</td>\n",
       "      <td>6.302444e+06</td>\n",
       "      <td>6.302444e+06</td>\n",
       "      <td>6.302444e+06</td>\n",
       "      <td>6.302444e+06</td>\n",
       "      <td>6.302444e+06</td>\n",
       "      <td>6.302444e+06</td>\n",
       "      <td>6.302444e+06</td>\n",
       "      <td>...</td>\n",
       "      <td>22059.459129</td>\n",
       "      <td>22059.459129</td>\n",
       "      <td>22059.459129</td>\n",
       "      <td>22059.459129</td>\n",
       "      <td>22059.459129</td>\n",
       "      <td>22059.459129</td>\n",
       "      <td>22059.459129</td>\n",
       "      <td>22059.459129</td>\n",
       "      <td>22059.459129</td>\n",
       "      <td>22059.459129</td>\n",
       "    </tr>\n",
       "    <tr>\n",
       "      <th>4</th>\n",
       "      <td>6.372784e+06</td>\n",
       "      <td>6.372784e+06</td>\n",
       "      <td>6.372784e+06</td>\n",
       "      <td>6.372784e+06</td>\n",
       "      <td>6.372784e+06</td>\n",
       "      <td>6.372784e+06</td>\n",
       "      <td>6.372784e+06</td>\n",
       "      <td>6.372784e+06</td>\n",
       "      <td>6.372784e+06</td>\n",
       "      <td>6.372784e+06</td>\n",
       "      <td>...</td>\n",
       "      <td>24165.671353</td>\n",
       "      <td>24165.671353</td>\n",
       "      <td>24165.671353</td>\n",
       "      <td>24165.671353</td>\n",
       "      <td>24165.671353</td>\n",
       "      <td>24165.671353</td>\n",
       "      <td>24165.671353</td>\n",
       "      <td>24165.671353</td>\n",
       "      <td>24165.671353</td>\n",
       "      <td>24165.671353</td>\n",
       "    </tr>\n",
       "  </tbody>\n",
       "</table>\n",
       "<p>5 rows × 200 columns</p>\n",
       "</div>"
      ],
      "text/plain": [
       "            0             1             2             3             4    \\\n",
       "0  6.330778e+06  6.330778e+06  6.330778e+06  6.330778e+06  6.330778e+06   \n",
       "1  5.974641e+06  5.974641e+06  5.974641e+06  5.974641e+06  5.974641e+06   \n",
       "2  7.421490e+06  7.421490e+06  7.421490e+06  7.421490e+06  7.421490e+06   \n",
       "3  6.302444e+06  6.302444e+06  6.302444e+06  6.302444e+06  6.302444e+06   \n",
       "4  6.372784e+06  6.372784e+06  6.372784e+06  6.372784e+06  6.372784e+06   \n",
       "\n",
       "            5             6             7             8             9    ...  \\\n",
       "0  6.330778e+06  6.330778e+06  6.330778e+06  6.330778e+06  6.330778e+06  ...   \n",
       "1  5.974641e+06  5.974641e+06  5.974641e+06  5.974641e+06  5.974641e+06  ...   \n",
       "2  7.421490e+06  7.421490e+06  7.421490e+06  7.421490e+06  7.421490e+06  ...   \n",
       "3  6.302444e+06  6.302444e+06  6.302444e+06  6.302444e+06  6.302444e+06  ...   \n",
       "4  6.372784e+06  6.372784e+06  6.372784e+06  6.372784e+06  6.372784e+06  ...   \n",
       "\n",
       "            190           191           192           193           194  \\\n",
       "0  14297.663172  14297.663172  14297.663172  14297.663172  14297.663172   \n",
       "1  20656.033122  20656.033122  20656.033122  20656.033122  20656.033122   \n",
       "2  21197.382203  21197.382203  21197.382203  21197.382203  21197.382203   \n",
       "3  22059.459129  22059.459129  22059.459129  22059.459129  22059.459129   \n",
       "4  24165.671353  24165.671353  24165.671353  24165.671353  24165.671353   \n",
       "\n",
       "            195           196           197           198           199  \n",
       "0  14297.663172  14297.663172  14297.663172  14297.663172  14297.663172  \n",
       "1  20656.033122  20656.033122  20656.033122  20656.033122  20656.033122  \n",
       "2  21197.382203  21197.382203  21197.382203  21197.382203  21197.382203  \n",
       "3  22059.459129  22059.459129  22059.459129  22059.459129  22059.459129  \n",
       "4  24165.671353  24165.671353  24165.671353  24165.671353  24165.671353  \n",
       "\n",
       "[5 rows x 200 columns]"
      ]
     },
     "execution_count": 9,
     "metadata": {},
     "output_type": "execute_result"
    }
   ],
   "source": [
    "pd.DataFrame(pBestsV['Fa']).head()"
   ]
  },
  {
   "cell_type": "code",
   "execution_count": 10,
   "metadata": {
    "scrolled": false
   },
   "outputs": [
    {
     "data": {
      "text/html": [
       "<div>\n",
       "<style scoped>\n",
       "    .dataframe tbody tr th:only-of-type {\n",
       "        vertical-align: middle;\n",
       "    }\n",
       "\n",
       "    .dataframe tbody tr th {\n",
       "        vertical-align: top;\n",
       "    }\n",
       "\n",
       "    .dataframe thead th {\n",
       "        text-align: right;\n",
       "    }\n",
       "</style>\n",
       "<table border=\"1\" class=\"dataframe\">\n",
       "  <thead>\n",
       "    <tr style=\"text-align: right;\">\n",
       "      <th></th>\n",
       "      <th>0</th>\n",
       "      <th>1</th>\n",
       "      <th>2</th>\n",
       "      <th>3</th>\n",
       "      <th>4</th>\n",
       "      <th>5</th>\n",
       "      <th>6</th>\n",
       "      <th>7</th>\n",
       "      <th>8</th>\n",
       "      <th>9</th>\n",
       "      <th>...</th>\n",
       "      <th>20</th>\n",
       "      <th>21</th>\n",
       "      <th>22</th>\n",
       "      <th>23</th>\n",
       "      <th>24</th>\n",
       "      <th>25</th>\n",
       "      <th>26</th>\n",
       "      <th>27</th>\n",
       "      <th>28</th>\n",
       "      <th>29</th>\n",
       "    </tr>\n",
       "  </thead>\n",
       "  <tbody>\n",
       "    <tr>\n",
       "      <th>0</th>\n",
       "      <td>-0.006218</td>\n",
       "      <td>0.565562</td>\n",
       "      <td>-2.025041</td>\n",
       "      <td>1.477892</td>\n",
       "      <td>-0.598179</td>\n",
       "      <td>0.114470</td>\n",
       "      <td>-1.731850</td>\n",
       "      <td>0.425919</td>\n",
       "      <td>-1.561529</td>\n",
       "      <td>-0.101767</td>\n",
       "      <td>...</td>\n",
       "      <td>0.650110</td>\n",
       "      <td>-2.302388</td>\n",
       "      <td>-0.156623</td>\n",
       "      <td>-0.580138</td>\n",
       "      <td>0.172374</td>\n",
       "      <td>-1.378027</td>\n",
       "      <td>-0.980662</td>\n",
       "      <td>0.339637</td>\n",
       "      <td>0.938237</td>\n",
       "      <td>3.097702</td>\n",
       "    </tr>\n",
       "    <tr>\n",
       "      <th>1</th>\n",
       "      <td>1.533306</td>\n",
       "      <td>0.684839</td>\n",
       "      <td>0.327051</td>\n",
       "      <td>-0.222429</td>\n",
       "      <td>2.215581</td>\n",
       "      <td>0.770508</td>\n",
       "      <td>1.035516</td>\n",
       "      <td>1.654095</td>\n",
       "      <td>2.095263</td>\n",
       "      <td>0.838839</td>\n",
       "      <td>...</td>\n",
       "      <td>0.858511</td>\n",
       "      <td>-0.469742</td>\n",
       "      <td>-0.373458</td>\n",
       "      <td>1.193044</td>\n",
       "      <td>-1.498254</td>\n",
       "      <td>1.455750</td>\n",
       "      <td>-1.804113</td>\n",
       "      <td>-1.813479</td>\n",
       "      <td>1.493869</td>\n",
       "      <td>4.103659</td>\n",
       "    </tr>\n",
       "    <tr>\n",
       "      <th>2</th>\n",
       "      <td>0.573981</td>\n",
       "      <td>0.040162</td>\n",
       "      <td>0.434592</td>\n",
       "      <td>-2.512145</td>\n",
       "      <td>0.046488</td>\n",
       "      <td>1.100667</td>\n",
       "      <td>-1.417220</td>\n",
       "      <td>0.213525</td>\n",
       "      <td>2.133065</td>\n",
       "      <td>1.376053</td>\n",
       "      <td>...</td>\n",
       "      <td>1.900325</td>\n",
       "      <td>0.168548</td>\n",
       "      <td>2.162931</td>\n",
       "      <td>1.745288</td>\n",
       "      <td>1.240313</td>\n",
       "      <td>-0.856723</td>\n",
       "      <td>-0.493995</td>\n",
       "      <td>0.181880</td>\n",
       "      <td>-0.263194</td>\n",
       "      <td>1.633183</td>\n",
       "    </tr>\n",
       "    <tr>\n",
       "      <th>3</th>\n",
       "      <td>0.332849</td>\n",
       "      <td>-1.262015</td>\n",
       "      <td>1.423565</td>\n",
       "      <td>2.731240</td>\n",
       "      <td>1.152945</td>\n",
       "      <td>-1.496920</td>\n",
       "      <td>-0.605469</td>\n",
       "      <td>0.797730</td>\n",
       "      <td>1.619865</td>\n",
       "      <td>2.647232</td>\n",
       "      <td>...</td>\n",
       "      <td>1.748894</td>\n",
       "      <td>0.860582</td>\n",
       "      <td>1.183251</td>\n",
       "      <td>-2.603860</td>\n",
       "      <td>1.310179</td>\n",
       "      <td>-2.234314</td>\n",
       "      <td>0.108997</td>\n",
       "      <td>-0.581816</td>\n",
       "      <td>-0.053755</td>\n",
       "      <td>-1.785330</td>\n",
       "    </tr>\n",
       "    <tr>\n",
       "      <th>4</th>\n",
       "      <td>-1.519924</td>\n",
       "      <td>0.790451</td>\n",
       "      <td>1.752164</td>\n",
       "      <td>-1.194932</td>\n",
       "      <td>-0.235375</td>\n",
       "      <td>-2.294351</td>\n",
       "      <td>1.148830</td>\n",
       "      <td>2.932627</td>\n",
       "      <td>1.570730</td>\n",
       "      <td>0.423634</td>\n",
       "      <td>...</td>\n",
       "      <td>1.583403</td>\n",
       "      <td>1.577682</td>\n",
       "      <td>-1.416229</td>\n",
       "      <td>0.004062</td>\n",
       "      <td>0.197429</td>\n",
       "      <td>-2.015121</td>\n",
       "      <td>-0.653874</td>\n",
       "      <td>-0.311441</td>\n",
       "      <td>-1.515217</td>\n",
       "      <td>-1.513897</td>\n",
       "    </tr>\n",
       "  </tbody>\n",
       "</table>\n",
       "<p>5 rows × 30 columns</p>\n",
       "</div>"
      ],
      "text/plain": [
       "         0         1         2         3         4         5         6   \\\n",
       "0 -0.006218  0.565562 -2.025041  1.477892 -0.598179  0.114470 -1.731850   \n",
       "1  1.533306  0.684839  0.327051 -0.222429  2.215581  0.770508  1.035516   \n",
       "2  0.573981  0.040162  0.434592 -2.512145  0.046488  1.100667 -1.417220   \n",
       "3  0.332849 -1.262015  1.423565  2.731240  1.152945 -1.496920 -0.605469   \n",
       "4 -1.519924  0.790451  1.752164 -1.194932 -0.235375 -2.294351  1.148830   \n",
       "\n",
       "         7         8         9   ...        20        21        22        23  \\\n",
       "0  0.425919 -1.561529 -0.101767  ...  0.650110 -2.302388 -0.156623 -0.580138   \n",
       "1  1.654095  2.095263  0.838839  ...  0.858511 -0.469742 -0.373458  1.193044   \n",
       "2  0.213525  2.133065  1.376053  ...  1.900325  0.168548  2.162931  1.745288   \n",
       "3  0.797730  1.619865  2.647232  ...  1.748894  0.860582  1.183251 -2.603860   \n",
       "4  2.932627  1.570730  0.423634  ...  1.583403  1.577682 -1.416229  0.004062   \n",
       "\n",
       "         24        25        26        27        28        29  \n",
       "0  0.172374 -1.378027 -0.980662  0.339637  0.938237  3.097702  \n",
       "1 -1.498254  1.455750 -1.804113 -1.813479  1.493869  4.103659  \n",
       "2  1.240313 -0.856723 -0.493995  0.181880 -0.263194  1.633183  \n",
       "3  1.310179 -2.234314  0.108997 -0.581816 -0.053755 -1.785330  \n",
       "4  0.197429 -2.015121 -0.653874 -0.311441 -1.515217 -1.513897  \n",
       "\n",
       "[5 rows x 30 columns]"
      ]
     },
     "execution_count": 10,
     "metadata": {},
     "output_type": "execute_result"
    }
   ],
   "source": [
    "pd.DataFrame(pBestsX['Fa']).head()"
   ]
  },
  {
   "cell_type": "markdown",
   "metadata": {},
   "source": [
    "#### Resultados finais de cada metaheuristica para cada repetição:\n",
    "* Ultima coluna da tabela de fo"
   ]
  },
  {
   "cell_type": "code",
   "execution_count": 11,
   "metadata": {},
   "outputs": [
    {
     "data": {
      "text/html": [
       "<div>\n",
       "<style scoped>\n",
       "    .dataframe tbody tr th:only-of-type {\n",
       "        vertical-align: middle;\n",
       "    }\n",
       "\n",
       "    .dataframe tbody tr th {\n",
       "        vertical-align: top;\n",
       "    }\n",
       "\n",
       "    .dataframe thead th {\n",
       "        text-align: right;\n",
       "    }\n",
       "</style>\n",
       "<table border=\"1\" class=\"dataframe\">\n",
       "  <thead>\n",
       "    <tr style=\"text-align: right;\">\n",
       "      <th></th>\n",
       "      <th>Fa</th>\n",
       "      <th>Fa_OpSort</th>\n",
       "      <th>Fa_Op</th>\n",
       "      <th>Fa_Quasi13</th>\n",
       "      <th>Fa_Quasi123</th>\n",
       "    </tr>\n",
       "  </thead>\n",
       "  <tbody>\n",
       "    <tr>\n",
       "      <th>0</th>\n",
       "      <td>14297.663172</td>\n",
       "      <td>15653.297639</td>\n",
       "      <td>12614.233407</td>\n",
       "      <td>13216.815439</td>\n",
       "      <td>11213.646667</td>\n",
       "    </tr>\n",
       "    <tr>\n",
       "      <th>1</th>\n",
       "      <td>20656.033122</td>\n",
       "      <td>19243.575390</td>\n",
       "      <td>13733.353144</td>\n",
       "      <td>18727.159125</td>\n",
       "      <td>22296.661768</td>\n",
       "    </tr>\n",
       "    <tr>\n",
       "      <th>2</th>\n",
       "      <td>21197.382203</td>\n",
       "      <td>19334.753914</td>\n",
       "      <td>15825.822979</td>\n",
       "      <td>19532.786006</td>\n",
       "      <td>24390.298065</td>\n",
       "    </tr>\n",
       "    <tr>\n",
       "      <th>3</th>\n",
       "      <td>22059.459129</td>\n",
       "      <td>24080.036642</td>\n",
       "      <td>20163.778268</td>\n",
       "      <td>21613.816255</td>\n",
       "      <td>24772.647062</td>\n",
       "    </tr>\n",
       "    <tr>\n",
       "      <th>4</th>\n",
       "      <td>24165.671353</td>\n",
       "      <td>24783.692289</td>\n",
       "      <td>22015.588515</td>\n",
       "      <td>23015.378336</td>\n",
       "      <td>26107.594827</td>\n",
       "    </tr>\n",
       "    <tr>\n",
       "      <th>5</th>\n",
       "      <td>26112.266383</td>\n",
       "      <td>26946.638026</td>\n",
       "      <td>23467.385062</td>\n",
       "      <td>27148.665572</td>\n",
       "      <td>26184.431533</td>\n",
       "    </tr>\n",
       "    <tr>\n",
       "      <th>6</th>\n",
       "      <td>26347.867219</td>\n",
       "      <td>30362.954522</td>\n",
       "      <td>24032.216265</td>\n",
       "      <td>29748.988689</td>\n",
       "      <td>27542.769479</td>\n",
       "    </tr>\n",
       "    <tr>\n",
       "      <th>7</th>\n",
       "      <td>26798.326935</td>\n",
       "      <td>33216.669552</td>\n",
       "      <td>26283.822872</td>\n",
       "      <td>31681.974259</td>\n",
       "      <td>28239.533521</td>\n",
       "    </tr>\n",
       "    <tr>\n",
       "      <th>8</th>\n",
       "      <td>27221.065565</td>\n",
       "      <td>33217.958569</td>\n",
       "      <td>27911.556351</td>\n",
       "      <td>31775.140915</td>\n",
       "      <td>29161.304311</td>\n",
       "    </tr>\n",
       "    <tr>\n",
       "      <th>9</th>\n",
       "      <td>31651.855663</td>\n",
       "      <td>35170.838552</td>\n",
       "      <td>35823.980559</td>\n",
       "      <td>36069.553492</td>\n",
       "      <td>32382.419016</td>\n",
       "    </tr>\n",
       "  </tbody>\n",
       "</table>\n",
       "</div>"
      ],
      "text/plain": [
       "             Fa     Fa_OpSort         Fa_Op    Fa_Quasi13   Fa_Quasi123\n",
       "0  14297.663172  15653.297639  12614.233407  13216.815439  11213.646667\n",
       "1  20656.033122  19243.575390  13733.353144  18727.159125  22296.661768\n",
       "2  21197.382203  19334.753914  15825.822979  19532.786006  24390.298065\n",
       "3  22059.459129  24080.036642  20163.778268  21613.816255  24772.647062\n",
       "4  24165.671353  24783.692289  22015.588515  23015.378336  26107.594827\n",
       "5  26112.266383  26946.638026  23467.385062  27148.665572  26184.431533\n",
       "6  26347.867219  30362.954522  24032.216265  29748.988689  27542.769479\n",
       "7  26798.326935  33216.669552  26283.822872  31681.974259  28239.533521\n",
       "8  27221.065565  33217.958569  27911.556351  31775.140915  29161.304311\n",
       "9  31651.855663  35170.838552  35823.980559  36069.553492  32382.419016"
      ]
     },
     "execution_count": 11,
     "metadata": {},
     "output_type": "execute_result"
    }
   ],
   "source": [
    "pBestsFinal = {mName: np.hstack([v.value[-1] for v in pB]) for mName, pB in pBests.items()}\n",
    "pd.DataFrame(pBestsFinal)"
   ]
  },
  {
   "cell_type": "markdown",
   "metadata": {},
   "source": [
    "#### Exportando para Excel"
   ]
  },
  {
   "cell_type": "code",
   "execution_count": 12,
   "metadata": {},
   "outputs": [],
   "source": [
    "if not os.path.exists(data_out):\n",
    "    os.makedirs(data_out)"
   ]
  },
  {
   "cell_type": "code",
   "execution_count": 13,
   "metadata": {},
   "outputs": [],
   "source": [
    "writer = pd.ExcelWriter(data_out+'/pBests.xlsx', engine='xlsxwriter')\n",
    "\n",
    "for k, v in pBestsV.items():\n",
    "    df = pd.DataFrame(v)\n",
    "    df.to_excel(writer, k)\n",
    "\n",
    "for k, v in pBestsX.items():\n",
    "    df = pd.DataFrame(v)\n",
    "    df.to_excel(writer, k+' X')\n",
    "\n",
    "writer.save()"
   ]
  },
  {
   "cell_type": "markdown",
   "metadata": {},
   "source": [
    "### pLists:\n",
    "Para isso é obtido cada objeto particula instanciado como pBest em cada repetição de cada metaheuristica"
   ]
  },
  {
   "cell_type": "code",
   "execution_count": 14,
   "metadata": {},
   "outputs": [],
   "source": [
    "#ANALISES DAS POP"
   ]
  },
  {
   "cell_type": "markdown",
   "metadata": {},
   "source": [
    "## Plotagens:"
   ]
  },
  {
   "cell_type": "code",
   "execution_count": 15,
   "metadata": {},
   "outputs": [],
   "source": [
    "def get_cmap(n, name='hsv'):\n",
    "    '''Returns a function that maps each index in 0, 1, ..., n-1 to a distinct \n",
    "    RGB color; the keyword argument name must be a standard mpl colormap name.'''\n",
    "    return plt.cm.get_cmap(name, n)\n",
    "\n",
    "cmap = get_cmap(len(pBestsV), 'Paired')"
   ]
  },
  {
   "cell_type": "code",
   "execution_count": 16,
   "metadata": {},
   "outputs": [
    {
     "data": {
      "text/plain": [
       "<matplotlib.legend.Legend at 0x250dc9e0588>"
      ]
     },
     "execution_count": 16,
     "metadata": {},
     "output_type": "execute_result"
    },
    {
     "data": {
      "image/png": "[encoded data removed]",
      "text/plain": [
       "<Figure size 1152x648 with 2 Axes>"
      ]
     },
     "metadata": {
      "needs_background": "light"
     },
     "output_type": "display_data"
    }
   ],
   "source": [
    "fig, (ax1, ax2) = plt.subplots(2, 1, figsize= (16,9))\n",
    "\n",
    "for i, (k, v) in enumerate(pBestsV.items()):\n",
    "    ax1.plot(v[0].T, c = cmap(i))\n",
    "    ax1.plot([], [], label = k, c = cmap(i), lw = 5)\n",
    "    \n",
    "    ax2.plot(v.T, c = cmap(i))\n",
    "\n",
    "#ax1.set_yscale('log')\n",
    "#ax2.set_yscale('log')\n",
    "ax1.grid()\n",
    "ax2.grid()\n",
    "ax1.legend()"
   ]
  },
  {
   "cell_type": "code",
   "execution_count": 17,
   "metadata": {
    "scrolled": false
   },
   "outputs": [
    {
     "data": {
      "text/plain": [
       "<matplotlib.legend.Legend at 0x250dcfe1f88>"
      ]
     },
     "execution_count": 17,
     "metadata": {},
     "output_type": "execute_result"
    },
    {
     "data": {
      "image/png": "[encoded data removed]",
      "text/plain": [
       "<Figure size 1152x324 with 1 Axes>"
      ]
     },
     "metadata": {
      "needs_background": "light"
     },
     "output_type": "display_data"
    }
   ],
   "source": [
    "fig, ax = plt.subplots(figsize=(16, 4.5))\n",
    "\n",
    "for i, (k, v) in enumerate(pBestsV.items()):\n",
    "    df = pd.DataFrame(v)\n",
    "\n",
    "    cor = cmap(i)\n",
    "    x = np.arange(v.shape[1])\n",
    "    \n",
    "    #ax.set_yscale('log')\n",
    "    ax.grid()\n",
    "    ax.plot([], [], lw=5,label = k, c=cor)\n",
    "    \n",
    "    ax.plot(df.mean(), '-',c=cor)\n",
    "    ax.plot(df.median(), '--', c=cor)\n",
    "    ax.fill_between(x, df.quantile(0.25), df.quantile(0.75), alpha=0.2, facecolor=cor, linewidth=0)\n",
    "    \n",
    "    ax.fill_between(x, df.quantile(0.75), df.quantile(1), alpha=0.2, facecolor=cor, linewidth=0)\n",
    "    ax.fill_between(x, df.quantile(0), df.quantile(0.25), alpha=0.2, facecolor=cor, linewidth=0)\n",
    "\n",
    "ax.legend()\n"
   ]
  },
  {
   "cell_type": "code",
   "execution_count": 18,
   "metadata": {},
   "outputs": [
    {
     "data": {
      "text/plain": [
       "[Text(0, 0, 'Fa'),\n",
       " Text(0, 0, 'Fa_OpSort'),\n",
       " Text(0, 0, 'Fa_Op'),\n",
       " Text(0, 0, 'Fa_Quasi13'),\n",
       " Text(0, 0, 'Fa_Quasi123')]"
      ]
     },
     "execution_count": 18,
     "metadata": {},
     "output_type": "execute_result"
    },
    {
     "data": {
      "image/png": "[encoded data removed]",
      "text/plain": [
       "<Figure size 1152x324 with 1 Axes>"
      ]
     },
     "metadata": {
      "needs_background": "light"
     },
     "output_type": "display_data"
    }
   ],
   "source": [
    "fig, ax = plt.subplots( figsize=(16, 4.5))\n",
    "\n",
    "flierprops = dict(marker='x', markerfacecolor='r', markersize=12,\n",
    "                  linestyle='none', markeredgecolor='black')\n",
    "\n",
    "ax.boxplot(pBestsFinal.values(), flierprops=flierprops, boxprops= dict(linewidth=2.0, color='black'),\n",
    "           whiskerprops=dict(linestyle='-',linewidth=1.5, color='black'))\n",
    "\n",
    "ax.patch.set_edgecolor('black')  \n",
    "ax.patch.set_linewidth(2)\n",
    "\n",
    "ax.xaxis.set_tick_params(labelsize=10)\n",
    "ax.yaxis.set_tick_params(labelsize=15)\n",
    "ax.set_xticklabels(pBestsFinal.keys(), fontsize=20)"
   ]
  },
  {
   "cell_type": "code",
   "execution_count": 19,
   "metadata": {},
   "outputs": [
    {
     "data": {
      "image/png": "[encoded data removed]",
      "text/plain": [
       "<Figure size 1152x711.99 with 6 Axes>"
      ]
     },
     "metadata": {
      "needs_background": "light"
     },
     "output_type": "display_data"
    }
   ],
   "source": [
    "\n",
    "widths = [1, 1]\n",
    "heights = [1]*ceil(len(pBestsFinal)/2)\n",
    "gs_kw = dict(width_ratios=widths, height_ratios=heights)\n",
    "\n",
    "fig, f_axes = plt.subplots(figsize= (16, 16/1.618),ncols=len(widths),\n",
    "                           nrows=len(heights), constrained_layout=True, gridspec_kw=gs_kw)\n",
    "\n",
    "for i, (ax, (k, meta)) in enumerate(zip(f_axes.flat, pBestsFinal.items())):\n",
    "    ax.hist(meta, label = k, bins = 10, alpha = 0.5, color=cmap(i))\n",
    "\n",
    "    ax.set_title(k, fontsize = 30)\n",
    "\n",
    "    ax.patch.set_edgecolor('black')  \n",
    "    ax.patch.set_linewidth(2)\n",
    "\n",
    "    ax.xaxis.set_tick_params(labelsize=15)\n",
    "    ax.yaxis.set_tick_params(labelsize=15)"
   ]
  },
  {
   "cell_type": "code",
   "execution_count": null,
   "metadata": {},
   "outputs": [],
   "source": []
  },
  {
   "cell_type": "code",
   "execution_count": null,
   "metadata": {},
   "outputs": [],
   "source": []
  },
  {
   "cell_type": "code",
   "execution_count": null,
   "metadata": {},
   "outputs": [],
   "source": []
  },
  {
   "cell_type": "code",
   "execution_count": null,
   "metadata": {},
   "outputs": [],
   "source": []
  },
  {
   "cell_type": "code",
   "execution_count": null,
   "metadata": {},
   "outputs": [],
   "source": []
  },
  {
   "cell_type": "code",
   "execution_count": null,
   "metadata": {},
   "outputs": [],
   "source": []
  }
 ],
 "metadata": {
  "kernelspec": {
   "display_name": "Python 3",
   "language": "python",
   "name": "python3"
  },
  "language_info": {
   "codemirror_mode": {
    "name": "ipython",
    "version": 3
   },
   "file_extension": ".py",
   "mimetype": "text/x-python",
   "name": "python",
   "nbconvert_exporter": "python",
   "pygments_lexer": "ipython3",
   "version": "3.7.6"
  }
 },
 "nbformat": 4,
 "nbformat_minor": 4
}
